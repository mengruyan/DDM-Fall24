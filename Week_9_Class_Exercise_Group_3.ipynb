{
  "nbformat": 4,
  "nbformat_minor": 0,
  "metadata": {
    "colab": {
      "provenance": [],
      "authorship_tag": "ABX9TyPbYRsgVcJE28clAvDzu1mf",
      "include_colab_link": true
    },
    "kernelspec": {
      "name": "python3",
      "display_name": "Python 3"
    },
    "language_info": {
      "name": "python"
    }
  },
  "cells": [
    {
      "cell_type": "markdown",
      "metadata": {
        "id": "view-in-github",
        "colab_type": "text"
      },
      "source": [
        "<a href=\"https://colab.research.google.com/github/guoren1014/PISA-student-QQQ/blob/main/Week_9_Class_Exercise_Group_3.ipynb\" target=\"_parent\"><img src=\"https://colab.research.google.com/assets/colab-badge.svg\" alt=\"Open In Colab\"/></a>"
      ]
    },
    {
      "cell_type": "code",
      "execution_count": 15,
      "metadata": {
        "colab": {
          "base_uri": "https://localhost:8080/"
        },
        "id": "KrEsVEON2N2G",
        "outputId": "0f0b8b03-0772-4694-85c2-315c0d0aeba4"
      },
      "outputs": [
        {
          "output_type": "stream",
          "name": "stdout",
          "text": [
            "fatal: destination path 'PISA-student-QQQ' already exists and is not an empty directory.\n"
          ]
        }
      ],
      "source": [
        "!git clone https://github.com/guoren1014/PISA-student-QQQ.git"
      ]
    },
    {
      "cell_type": "code",
      "source": [
        "!pip install pyreadstat\n"
      ],
      "metadata": {
        "colab": {
          "base_uri": "https://localhost:8080/"
        },
        "id": "sJ0GC0C74w_f",
        "outputId": "3705a5dd-612d-4c60-df2e-6fef6a97d8d1"
      },
      "execution_count": 2,
      "outputs": [
        {
          "output_type": "stream",
          "name": "stdout",
          "text": [
            "Collecting pyreadstat\n",
            "  Downloading pyreadstat-1.2.8-cp310-cp310-manylinux_2_17_x86_64.manylinux2014_x86_64.whl.metadata (1.0 kB)\n",
            "Requirement already satisfied: pandas>=1.2.0 in /usr/local/lib/python3.10/dist-packages (from pyreadstat) (2.2.2)\n",
            "Requirement already satisfied: numpy>=1.22.4 in /usr/local/lib/python3.10/dist-packages (from pandas>=1.2.0->pyreadstat) (1.26.4)\n",
            "Requirement already satisfied: python-dateutil>=2.8.2 in /usr/local/lib/python3.10/dist-packages (from pandas>=1.2.0->pyreadstat) (2.8.2)\n",
            "Requirement already satisfied: pytz>=2020.1 in /usr/local/lib/python3.10/dist-packages (from pandas>=1.2.0->pyreadstat) (2024.2)\n",
            "Requirement already satisfied: tzdata>=2022.7 in /usr/local/lib/python3.10/dist-packages (from pandas>=1.2.0->pyreadstat) (2024.2)\n",
            "Requirement already satisfied: six>=1.5 in /usr/local/lib/python3.10/dist-packages (from python-dateutil>=2.8.2->pandas>=1.2.0->pyreadstat) (1.16.0)\n",
            "Downloading pyreadstat-1.2.8-cp310-cp310-manylinux_2_17_x86_64.manylinux2014_x86_64.whl (2.8 MB)\n",
            "\u001b[?25l   \u001b[90m━━━━━━━━━━━━━━━━━━━━━━━━━━━━━━━━━━━━━━━━\u001b[0m \u001b[32m0.0/2.8 MB\u001b[0m \u001b[31m?\u001b[0m eta \u001b[36m-:--:--\u001b[0m\r\u001b[2K   \u001b[91m━━━━━━━━━━━━━━━━━━━━━━━━━━━━━━━━━━━\u001b[0m\u001b[90m╺\u001b[0m\u001b[90m━━━━\u001b[0m \u001b[32m2.5/2.8 MB\u001b[0m \u001b[31m75.3 MB/s\u001b[0m eta \u001b[36m0:00:01\u001b[0m\r\u001b[2K   \u001b[90m━━━━━━━━━━━━━━━━━━━━━━━━━━━━━━━━━━━━━━━━\u001b[0m \u001b[32m2.8/2.8 MB\u001b[0m \u001b[31m41.9 MB/s\u001b[0m eta \u001b[36m0:00:00\u001b[0m\n",
            "\u001b[?25hInstalling collected packages: pyreadstat\n",
            "Successfully installed pyreadstat-1.2.8\n"
          ]
        }
      ]
    },
    {
      "cell_type": "code",
      "source": [
        "from google.colab import drive\n",
        "drive.mount('/content/drive')\n"
      ],
      "metadata": {
        "colab": {
          "base_uri": "https://localhost:8080/"
        },
        "id": "GZuJF3OE41we",
        "outputId": "1770bbf6-c60e-41b6-98d2-0400cb9c6014"
      },
      "execution_count": 3,
      "outputs": [
        {
          "output_type": "stream",
          "name": "stdout",
          "text": [
            "Mounted at /content/drive\n"
          ]
        }
      ]
    },
    {
      "cell_type": "code",
      "source": [
        "folder_path = '/content/drive/My Drive/Colab Notebooks/Database Management'\n"
      ],
      "metadata": {
        "id": "9gxsWk3Z464e"
      },
      "execution_count": 9,
      "outputs": []
    },
    {
      "cell_type": "code",
      "source": [
        "import zipfile\n",
        "import os\n",
        "\n",
        "# Extract all .zip files in the folder\n",
        "for file_name in os.listdir(folder_path):\n",
        "    if file_name.endswith('.zip'):\n",
        "        with zipfile.ZipFile(os.path.join(folder_path, file_name), 'r') as zip_ref:\n",
        "            zip_ref.extractall(folder_path)  # Extract to the same folder\n"
      ],
      "metadata": {
        "id": "UjEu6fC45rOW"
      },
      "execution_count": 10,
      "outputs": []
    },
    {
      "cell_type": "code",
      "source": [
        "# List all files in the folder to see the extracted contents\n",
        "for file_name in os.listdir(folder_path):\n",
        "    print(file_name)\n"
      ],
      "metadata": {
        "colab": {
          "base_uri": "https://localhost:8080/"
        },
        "id": "UwqgeQLJ77Fn",
        "outputId": "e3421b6b-5dd5-4f61-d9a9-f07968f6b324"
      },
      "execution_count": 11,
      "outputs": [
        {
          "output_type": "stream",
          "name": "stdout",
          "text": [
            "CY08MSP_CODEBOOK_27thJune24.xlsx\n",
            "SCH_QQQ_SAS.zip\n",
            "TCH_QQQ_SAS.zip\n",
            "CRT_SAS.zip\n",
            "STU_TIM_SAS.zip\n",
            "FLT_SAS.zip\n",
            "STU_COG_SAS.zip\n",
            "STU_QQQ_SAS.zip\n",
            "CY08MSP_SCH_QQQ.FORMAT.SAS\n",
            "CY08MSP_SCH_QQQ.SAS7BDAT\n",
            "CY08MSP_TCH_QQQ.FORMAT.SAS\n",
            "CY08MSP_TCH_QQQ.SAS7BDAT\n",
            "CY08MSP_CRT_COG.FORMAT.SAS\n",
            "CY08MSP_CRT_COG.SAS7BDAT\n",
            "CY08MSP_STU_TIM.SAS7BDAT\n",
            "CY08MSP_STU_TIM.FORMAT.SAS\n",
            "CY08MSP_FLT_COG.FORMAT.SAS\n",
            "CY08MSP_FLT_COG.SAS7BDAT\n",
            "CY08MSP_FLT_QQQ.FORMAT.SAS\n",
            "CY08MSP_FLT_QQQ.SAS7BDAT\n",
            "CY08MSP_FLT_TIM.FORMAT.SAS\n",
            "CY08MSP_FLT_TIM.SAS7BDAT\n",
            "CY08MSP_STU_COG.SAS7BDAT\n",
            "CY08MSP_STU_COG.FORMAT.SAS\n",
            "CY08MSP_STU_QQQ.FORMAT.SAS\n",
            "CY08MSP_STU_QQQ.SAS7BDAT\n"
          ]
        }
      ]
    },
    {
      "cell_type": "markdown",
      "source": [
        "Based on the output, the relevant dataset file for Group 3, CY08MSP_STU_QQQ.SAS7BDAT, is present. Let's proceed with loading this file in Colab using pyreadstat"
      ],
      "metadata": {
        "id": "QacS0plB8Mom"
      }
    },
    {
      "cell_type": "code",
      "source": [
        "import pyreadstat\n",
        "import os\n",
        "\n",
        "# Define the file path for the dataset\n",
        "folder_path = '/content/drive/My Drive/Colab Notebooks/Database Management'\n",
        "data_file_path = os.path.join(folder_path, 'CY08MSP_STU_QQQ.SAS7BDAT')\n",
        "\n",
        "# Load only the metadata to get column names and labels\n",
        "_, meta = pyreadstat.read_sas7bdat(data_file_path, metadataonly=True)\n"
      ],
      "metadata": {
        "id": "1IIC4UN7DnDe"
      },
      "execution_count": 5,
      "outputs": []
    },
    {
      "cell_type": "code",
      "source": [
        "import pandas as pd\n",
        "\n",
        "# Use iterator to load data in chunks\n",
        "iterator = pd.read_sas(data_file_path, format='sas7bdat', chunksize=1000)\n",
        "\n",
        "# Retrieve the first chunk and get the column names\n",
        "first_chunk = next(iterator)\n",
        "print(first_chunk.columns)\n"
      ],
      "metadata": {
        "colab": {
          "base_uri": "https://localhost:8080/"
        },
        "id": "warrUW0YDGhm",
        "outputId": "ad5044af-97e3-4a50-f9e8-ea85e81ea0e8"
      },
      "execution_count": 3,
      "outputs": [
        {
          "output_type": "stream",
          "name": "stdout",
          "text": [
            "Index(['CNT', 'CNTRYID', 'CNTSCHID', 'CNTSTUID', 'CYC', 'NatCen', 'STRATUM',\n",
            "       'SUBNATIO', 'REGION', 'OECD',\n",
            "       ...\n",
            "       'PV3MPRE', 'PV4MPRE', 'PV5MPRE', 'PV6MPRE', 'PV7MPRE', 'PV8MPRE',\n",
            "       'PV9MPRE', 'PV10MPRE', 'SENWT', 'VER_DAT'],\n",
            "      dtype='object', length=1278)\n"
          ]
        }
      ]
    },
    {
      "cell_type": "code",
      "source": [
        "# Search for relevant column names based on keywords\n",
        "keywords = ['Mother', 'Father', 'Highest education', 'ISCED']\n",
        "for label, name in zip(meta.column_labels, meta.column_names):\n",
        "    if any(keyword in label for keyword in keywords):\n",
        "        print(f\"{label}: {name}\")\n"
      ],
      "metadata": {
        "colab": {
          "base_uri": "https://localhost:8080/"
        },
        "id": "cribAjnhDfyf",
        "outputId": "779ce513-c7cf-47ed-902c-1b769c7fe6b4"
      },
      "execution_count": 6,
      "outputs": [
        {
          "output_type": "stream",
          "name": "stdout",
          "text": [
            "Does your mother have any of the following qualifications: [ISCED level 8]: ST006Q01JA\n",
            "Does your mother have any of the following qualifications: [ISCED level 7]: ST006Q02JA\n",
            "Does your mother have any of the following qualifications: [ISCED level 6]: ST006Q03JA\n",
            "Does your mother have any of the following qualifications: [ISCED level 5]: ST006Q04JA\n",
            "Does your mother have any of the following qualifications: [ISCED level 4]: ST006Q05JA\n",
            "Does your father have any of the following qualifications: [ISCED level 8]: ST008Q01JA\n",
            "Does your father have any of the following qualifications: [ISCED level 7]: ST008Q02JA\n",
            "Does your father have any of the following qualifications: [ISCED level 6]: ST008Q03JA\n",
            "Does your father have any of the following qualifications: [ISCED level 5]: ST008Q04JA\n",
            "Does your father have any of the following qualifications: [ISCED level 4]: ST008Q05JA\n",
            "In what country were you and your parents born? Mother: ST019BQ01T\n",
            "In what country were you and your parents born? Father: ST019CQ01T\n",
            "How old were you when you started [ISCED 0]: Years: ST125Q01NA\n",
            "How old were you when you started [ISCED 1]: Years: ST126Q01TA\n",
            "Have you ever repeated a [grade]: At [ISCED 1]: ST127Q01TA\n",
            "Have you ever repeated a [grade]: At [ISCED 2]: ST127Q02TA\n",
            "Have you ever repeated a [grade]: At [ISCED 3]: ST127Q03TA\n",
            "Have you ever missed school for more than three months in a row: At [ISCED 1]: ST260Q01JA\n",
            "Have you ever missed school for more than three months in a row: At [ISCED 2]: ST260Q02JA\n",
            "Have you ever missed school for more than three months in a row: At [ISCED 3]: ST260Q03JA\n",
            "How often parents/family member: Talk to you about the importance of [completing ISCED 3].: ST300Q04JA\n",
            "Which of the following qualifications do you expect to complete: [ISCED level 2]: ST327Q01JA\n",
            "Which of the following qualifications do you expect to complete: [ISCED level 3.3]: ST327Q02JA\n",
            "Which of the following qualifications do you expect to complete: [ISCED level 3.4]: ST327Q03JA\n",
            "Which of the following qualifications do you expect to complete: [ISCED level 4]: ST327Q04JA\n",
            "Which of the following qualifications do you expect to complete: [ISCED level 5]: ST327Q05JA\n",
            "Which of the following qualifications do you expect to complete: [ISCED level 6]: ST327Q06JA\n",
            "Which of the following qualifications do you expect to complete: [ISCED level 7]: ST327Q07JA\n",
            "Which of the following qualifications do you expect to complete: [ISCED level 8]: ST327Q08JA\n",
            "To learn about future study/work, have you: I went to an organised tour in an [ISCED 3-7] institution.: ST330Q08WA\n",
            "To learn about future study/work, have you: I researched the internet for information about [ISCED 3-7] programmes.: ST330Q09WA\n",
            "Who will complete this questionnaire? Mother or other female guardian: PA001Q01TA\n",
            "Who will complete this questionnaire? Father or other male guardian: PA001Q02TA\n",
            "How often someone in home does? Talk to my child about the importance of [completing ISCED 3]: PA003Q11JA\n",
            "Which qualification do you expect your child to complete? [ISCED level 2]: PA183Q01JA\n",
            "Which qualification do you expect your child to complete? [ISCED level 3.3]: PA183Q02JA\n",
            "Which qualification do you expect your child to complete? [ISCED level 3.4]: PA183Q03JA\n",
            "Which qualification do you expect your child to complete? [ISCED level 4]: PA183Q04JA\n",
            "Which qualification do you expect your child to complete? [ISCED level 5]: PA183Q05JA\n",
            "Which qualification do you expect your child to complete? [ISCED level 6]: PA183Q06JA\n",
            "Which qualification do you expect your child to complete? [ISCED level 7]: PA183Q07JA\n",
            "Which qualification do you expect your child to complete? [ISCED level 8]: PA183Q08JA\n",
            "Prior to [grade 1 in ISCED 1], did child attend: Supervision and care (e.g. [national examples]): PA018Q01NA\n",
            "Prior to [grade 1 in ISCED 1], did child attend: Early childhood educational development (e.g. [national examples]): PA018Q02NA\n",
            "Prior to [grade 1 in ISCED 1], did child attend: Pre-primary education (e.g. [national examples]): PA018Q03NA\n",
            "Prior to [grade 1 in ISCED 1], ages child attended [early childhood education and care arrangement]: Up to age 1: PA177Q01HA\n",
            "Prior to [grade 1 in ISCED 1], ages child attended [early childhood education and care arrangement]: Age 1: PA177Q02HA\n",
            "Prior to [grade 1 in ISCED 1], ages child attended [early childhood education and care arrangement]: Age 2: PA177Q03HA\n",
            "Prior to [grade 1 in ISCED 1], ages child attended [early childhood education and care arrangement]: Age 3: PA177Q04HA\n",
            "Prior to [grade 1 in ISCED 1], ages child attended [early childhood education and care arrangement]: Age 4: PA177Q05HA\n",
            "Prior to [grade 1 in ISCED 1], ages child attended [early childhood education and care arrangement]: Age 5: PA177Q06HA\n",
            "Prior to [grade 1 in ISCED 1], ages child attended [early childhood education and care arrangement]: Age 6: PA177Q07HA\n",
            "Prior to [grade 1 in ISCED 1], ages child attended [early childhood education and care arrangement]: Age 7: PA177Q08HA\n",
            "During [ISCED 1], did child attend: [Enrichment lessons] in [test language]: PA175Q01HA\n",
            "During [ISCED 1], did child attend: [Remedial lessons] in [test language]: PA175Q02HA\n",
            "During [ISCED 1], did child attend: [Enrichment lessons] in mathematics: PA175Q03JA\n",
            "During [ISCED 1], did child attend: [Remedial lessons] in mathematics: PA175Q04JA\n",
            "ISCO-08 Occupation code - Mother: OCOD1\n",
            "ISCO-08 Occupation code - Father: OCOD2\n",
            "Levels of education programmes (ISCED 2011): ISCEDP\n",
            "Mother’s level of education (ISCED): MISCED\n",
            "Father’s level of education (ISCED): FISCED\n",
            "Highest level of education of parents (ISCED): HISCED\n",
            "Mother’s occupational status (ISEI) based on 4-digit human coded ISCO: BMMJ1\n",
            "Father’s occupational status (ISEI) based on 4-digit human coded ISCO: BFMJ2\n"
          ]
        }
      ]
    },
    {
      "cell_type": "code",
      "source": [
        "import matplotlib.pyplot as plt\n",
        "\n",
        "# Data extracted from the codebook for HISCED\n",
        "hisc_data = {\n",
        "    \"ISCED Level\": [\n",
        "        \"Less than ISCED Level 1\", \"ISCED Level 1\", \"ISCED Level 2\", \"ISCED Level 3.3\",\n",
        "        \"ISCED Level 3.4\", \"ISCED Level 4\", \"ISCED Level 5\", \"ISCED Level 6\",\n",
        "        \"ISCED Level 7\", \"ISCED Level 8\", \"No Response\"\n",
        "    ],\n",
        "    \"Count\": [\n",
        "        7252, 16193, 40517, 27485, 83452, 47782, 66105, 107073, 111989, 76200, 29696\n",
        "    ]\n",
        "}\n",
        "\n",
        "# Plot the data\n",
        "plt.figure(figsize=(12, 6))\n",
        "plt.barh(hisc_data[\"ISCED Level\"], hisc_data[\"Count\"], color='skyblue')\n",
        "plt.xlabel(\"Count\")\n",
        "plt.title(\"Distribution of Highest Level of Education of Parents (ISCED)\")\n",
        "plt.gca().invert_yaxis()\n",
        "plt.show()\n"
      ],
      "metadata": {
        "colab": {
          "base_uri": "https://localhost:8080/",
          "height": 564
        },
        "id": "JdOePTTLGjLW",
        "outputId": "e1c47d72-5bab-418e-fa24-f05c1af61e5b"
      },
      "execution_count": 3,
      "outputs": [
        {
          "output_type": "display_data",
          "data": {
            "text/plain": [
              "<Figure size 1200x600 with 1 Axes>"
            ],
            "image/png": "[encoded data removed]"
          },
          "metadata": {}
        }
      ]
    }
  ]
}